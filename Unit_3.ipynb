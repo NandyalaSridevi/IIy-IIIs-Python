{
  "nbformat": 4,
  "nbformat_minor": 0,
  "metadata": {
    "colab": {
      "provenance": [],
      "authorship_tag": "ABX9TyOj7c4dggpav5AJltK4w29p",
      "include_colab_link": true
    },
    "kernelspec": {
      "name": "python3",
      "display_name": "Python 3"
    },
    "language_info": {
      "name": "python"
    }
  },
  "cells": [
    {
      "cell_type": "markdown",
      "metadata": {
        "id": "view-in-github",
        "colab_type": "text"
      },
      "source": [
        "<a href=\"https://colab.research.google.com/github/NandyalaSridevi/IIy-IIIs-Python/blob/main/Unit_3.ipynb\" target=\"_parent\"><img src=\"https://colab.research.google.com/assets/colab-badge.svg\" alt=\"Open In Colab\"/></a>"
      ]
    },
    {
      "cell_type": "code",
      "execution_count": 1,
      "metadata": {
        "colab": {
          "base_uri": "https://localhost:8080/"
        },
        "id": "vtaRC28-Pb6y",
        "outputId": "d5b40691-b95b-4bb8-fa02-4e6891d2296b"
      },
      "outputs": [
        {
          "output_type": "stream",
          "name": "stdout",
          "text": [
            "Array 1: [10 20 30 40]\n",
            "Array 2: [1 2 3 4]\n",
            "result(Array1 + Array2): [11 22 33 44]\n"
          ]
        }
      ],
      "source": [
        "import numpy as np\n",
        "\n",
        "array1 = np.array([10,20,30,40])\n",
        "array2 = np.array([1,2,3,4])\n",
        "result = np.add(array1,array2)\n",
        "print(\"Array 1:\",array1)\n",
        "print(\"Array 2:\",array2)\n",
        "print(\"result(Array1 + Array2):\",result)"
      ]
    },
    {
      "cell_type": "code",
      "source": [
        "import numpy as np\n",
        "\n",
        "arr = np.array([1, 2, 3, 4, 5])\n",
        "print(\"Array:\", arr)\n",
        "\n",
        "if np.all(arr):\n",
        "    print(\"All elements are non-zero.\")\n",
        "else:\n",
        "    print(\"Some elements are zero.\")"
      ],
      "metadata": {
        "colab": {
          "base_uri": "https://localhost:8080/"
        },
        "id": "UuFsts45P7Td",
        "outputId": "03ef3957-cec7-4ab3-dd2d-3e1506c09e7b"
      },
      "execution_count": 2,
      "outputs": [
        {
          "output_type": "stream",
          "name": "stdout",
          "text": [
            "Array: [1 2 3 4 5]\n",
            "All elements are non-zero.\n"
          ]
        }
      ]
    },
    {
      "cell_type": "code",
      "source": [
        "import numpy as np\n",
        "\n",
        "arr1 = np.array([1, 2, 3, 4])\n",
        "arr2 = np.array([2, 2, 1, 5])\n",
        "\n",
        "print(\"Array 1:\", arr1)\n",
        "print(\"Array 2:\", arr2)\n",
        "\n",
        "print(\"Greater:\", np.greater(arr1, arr2))\n",
        "print(\"Greater or Equal:\", np.greater_equal(arr1, arr2))\n",
        "print(\"Less:\", np.less(arr1, arr2))\n",
        "print(\"Less or Equal:\", np.less_equal(arr1, arr2))\n",
        "print(\"Equal:\", np.equal(arr1, arr2))\n",
        "print(\"Allclose (within tolerance):\", np.allclose(arr1, arr2))"
      ],
      "metadata": {
        "colab": {
          "base_uri": "https://localhost:8080/"
        },
        "id": "mxvSkNpSQYLE",
        "outputId": "5ff3bf99-8507-4b90-a76f-b6e07d4804d5"
      },
      "execution_count": 3,
      "outputs": [
        {
          "output_type": "stream",
          "name": "stdout",
          "text": [
            "Array 1: [1 2 3 4]\n",
            "Array 2: [2 2 1 5]\n",
            "Greater: [False False  True False]\n",
            "Greater or Equal: [False  True  True False]\n",
            "Less: [ True False False  True]\n",
            "Less or Equal: [ True  True False  True]\n",
            "Equal: [False  True False False]\n",
            "Allclose (within tolerance): False\n"
          ]
        }
      ]
    },
    {
      "cell_type": "code",
      "source": [
        "import numpy as np\n",
        "\n",
        "arr = np.array([10, 25, 8, 30, 15, 5])\n",
        "value = 15\n",
        "\n",
        "print(\"Array:\", arr)\n",
        "print(\"Numbers less than\", value, \":\", arr[arr < value])\n",
        "print(\"Numbers greater than\", value, \":\", arr[arr > value])"
      ],
      "metadata": {
        "colab": {
          "base_uri": "https://localhost:8080/"
        },
        "id": "ttDitOeUQdCh",
        "outputId": "d4f02296-b1b7-49f5-ba39-51872a2119b3"
      },
      "execution_count": 4,
      "outputs": [
        {
          "output_type": "stream",
          "name": "stdout",
          "text": [
            "Array: [10 25  8 30 15  5]\n",
            "Numbers less than 15 : [10  8  5]\n",
            "Numbers greater than 15 : [25 30]\n"
          ]
        }
      ]
    },
    {
      "cell_type": "code",
      "source": [
        "import numpy as np\n",
        "\n",
        "arr = np.array([2, 5, 1, 7, 3, 5, 7, 2])\n",
        "\n",
        "print(\"Array:\", arr)\n",
        "print(\"Maximum value:\", np.max(arr))\n",
        "print(\"Minimum value:\", np.min(arr))\n",
        "print(\"Index of max value:\", np.argmax(arr))\n",
        "print(\"Index of min value:\", np.argmin(arr))\n",
        "print(\"Unique elements:\", np.unique(arr))\n",
        "print(\"Count of each element:\", np.bincount(arr))\n",
        "print(\"String representation of array:\", repr(arr))"
      ],
      "metadata": {
        "colab": {
          "base_uri": "https://localhost:8080/"
        },
        "id": "YMGqCOzKQhOO",
        "outputId": "5d023726-847d-4a8a-ca2c-09abed370cb3"
      },
      "execution_count": 5,
      "outputs": [
        {
          "output_type": "stream",
          "name": "stdout",
          "text": [
            "Array: [2 5 1 7 3 5 7 2]\n",
            "Maximum value: 7\n",
            "Minimum value: 1\n",
            "Index of max value: 3\n",
            "Index of min value: 2\n",
            "Unique elements: [1 2 3 5 7]\n",
            "Count of each element: [0 1 2 1 0 2 0 2]\n",
            "String representation of array: array([2, 5, 1, 7, 3, 5, 7, 2])\n"
          ]
        }
      ]
    }
  ]
}