{
  "nbformat": 4,
  "nbformat_minor": 0,
  "metadata": {
    "colab": {
      "provenance": [],
      "authorship_tag": "ABX9TyOhQfubqJ+Tc1OtEtC5Xzo1",
      "include_colab_link": true
    },
    "kernelspec": {
      "name": "python3",
      "display_name": "Python 3"
    },
    "language_info": {
      "name": "python"
    }
  },
  "cells": [
    {
      "cell_type": "markdown",
      "metadata": {
        "id": "view-in-github",
        "colab_type": "text"
      },
      "source": [
        "<a href=\"https://colab.research.google.com/github/NandyalaSridevi/IIy-IIIs-Python/blob/main/Unit_2.ipynb\" target=\"_parent\"><img src=\"https://colab.research.google.com/assets/colab-badge.svg\" alt=\"Open In Colab\"/></a>"
      ]
    },
    {
      "cell_type": "code",
      "source": [
        "class Car:\n",
        "    def __init__(self, make, model, year):  # Correct constructor name\n",
        "        self.make = make\n",
        "        self.model = model\n",
        "        self.year = year\n",
        "        self.is_started = False  # To keep track of the car's state\n",
        "    def start(self):\n",
        "        if not self.is_started:\n",
        "            print(f\"The {self.year} {self.make} {self.model} is starting.\")\n",
        "            self.is_started = True\n",
        "        else:\n",
        "            print(f\"The {self.year} {self.make} {self.model} is already running.\")\n",
        "    def stop(self):\n",
        "        if self.is_started:\n",
        "            print(f\"The {self.year} {self.make} {self.model} is stopping.\")\n",
        "            self.is_started = False\n",
        "        else:\n",
        "            print(f\"The {self.year} {self.make} {self.model} is already stopped.\")\n",
        "# Demonstrating the Car class\n",
        "print(\"--- Car Class Demonstration ---\")\n",
        "my_car = Car(\"Toyota\", \"Camry\", 2022)\n",
        "print(f\"My car: {my_car.make} {my_car.model} ({my_car.year})\")\n",
        "my_car.start()\n",
        "my_car.start()\n",
        "my_car.stop()\n",
        "my_car.stop()\n"
      ],
      "metadata": {
        "colab": {
          "base_uri": "https://localhost:8080/"
        },
        "id": "A3fc6Dl6HRP8",
        "outputId": "84303640-867b-417b-f918-d36ced271f74"
      },
      "execution_count": 3,
      "outputs": [
        {
          "output_type": "stream",
          "name": "stdout",
          "text": [
            "--- Car Class Demonstration ---\n",
            "My car: Toyota Camry (2022)\n",
            "The 2022 Toyota Camry is starting.\n",
            "The 2022 Toyota Camry is already running.\n",
            "The 2022 Toyota Camry is stopping.\n",
            "The 2022 Toyota Camry is already stopped.\n"
          ]
        }
      ]
    },
    {
      "cell_type": "code",
      "source": [
        "class Animal:\n",
        "    def __init__(self, name):\n",
        "        self.name = name\n",
        "    def eat(self):\n",
        "        print(f\"{self.name} is eating.\")\n",
        "    def sleep(self):\n",
        "        print(f\"{self.name} is sleeping.\")\n",
        "\n",
        "class Dog(Animal):\n",
        "    def bark(self):\n",
        "        print(f\"{self.name} says Woof!\")\n",
        "class Cat(Animal):\n",
        "    def meow(self):\n",
        "        print(f\"{self.name} says Meow!\")\n",
        "dog1 = Dog(\"Buddy\")\n",
        "cat1 = Cat(\"Whiskers\")\n",
        "dog1.eat()\n",
        "dog1.sleep()\n",
        "cat1.eat()\n",
        "cat1.sleep()\n",
        "dog1.bark()\n",
        "cat1.meow()\n"
      ],
      "metadata": {
        "colab": {
          "base_uri": "https://localhost:8080/"
        },
        "id": "qxGIrvHxHjcQ",
        "outputId": "90cabff1-aeff-4151-b63a-107d30dd78e7"
      },
      "execution_count": 4,
      "outputs": [
        {
          "output_type": "stream",
          "name": "stdout",
          "text": [
            "Buddy is eating.\n",
            "Buddy is sleeping.\n",
            "Whiskers is eating.\n",
            "Whiskers is sleeping.\n",
            "Buddy says Woof!\n",
            "Whiskers says Meow!\n"
          ]
        }
      ]
    },
    {
      "cell_type": "code",
      "source": [
        "class Animal:\n",
        "    def make_sound(self):\n",
        "        print(\"Some generic animal sound\")\n",
        "class Dog(Animal):\n",
        "    def make_sound(self):\n",
        "        print(\"Woof!\")\n",
        "class Cat(Animal):\n",
        "    def make_sound(self):\n",
        "        print(\"Meow!\")\n",
        "class Bird(Animal):\n",
        "    def make_sound(self):\n",
        "        print(\"Tweet!\")\n",
        "# Demonstrating polymorphism\n",
        "animals = [Dog(), Cat(), Bird()]\n",
        "for animal in animals:\n",
        "    animal.make_sound()\n"
      ],
      "metadata": {
        "colab": {
          "base_uri": "https://localhost:8080/"
        },
        "id": "qEH7bGPOHvTJ",
        "outputId": "038494e3-ff71-4c4c-cf3a-fbed8a9c030d"
      },
      "execution_count": 6,
      "outputs": [
        {
          "output_type": "stream",
          "name": "stdout",
          "text": [
            "Woof!\n",
            "Meow!\n",
            "Tweet!\n"
          ]
        }
      ]
    },
    {
      "cell_type": "code",
      "source": [
        "def safe_divide(numerator, denominator):\n",
        "    try:\n",
        "        # Try to divide\n",
        "        result = numerator / denominator\n",
        "        print(f\"The result of {numerator} / {denominator} is: {result}\")\n",
        "    except ZeroDivisionError:\n",
        "        # Handle division by zero\n",
        "        print(f\"Error: Cannot divide by zero! Attempted {numerator} / {denominator}\")\n",
        "    except TypeError:\n",
        "        # Handle wrong data types (e.g., string)\n",
        "        print(\"Error: Invalid input types. Please provide numbers.\")\n",
        "    except Exception as e:\n",
        "        # Handle any other unexpected error\n",
        "        print(f\"An unexpected error occurred: {e}\")\n",
        "# Demonstrating error handling\n",
        "print(\"\\n--- Error Handling Demonstration ---\")\n",
        "safe_divide(10, 2)       # Correct\n",
        "safe_divide(10, 0)       # Division by zero\n",
        "safe_divide(5, \"abc\")    # Type error\n"
      ],
      "metadata": {
        "colab": {
          "base_uri": "https://localhost:8080/"
        },
        "id": "z-6OMGUbIAh8",
        "outputId": "702bc6c4-8d82-4481-df08-c18733f05fc1"
      },
      "execution_count": 7,
      "outputs": [
        {
          "output_type": "stream",
          "name": "stdout",
          "text": [
            "\n",
            "--- Error Handling Demonstration ---\n",
            "The result of 10 / 2 is: 5.0\n",
            "Error: Cannot divide by zero! Attempted 10 / 0\n",
            "Error: Invalid input types. Please provide numbers.\n"
          ]
        }
      ]
    }
  ]
}